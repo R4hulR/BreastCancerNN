{
  "nbformat": 4,
  "nbformat_minor": 0,
  "metadata": {
    "colab": {
      "provenance": [],
      "gpuType": "T4",
      "authorship_tag": "ABX9TyMLjRabl5DYZHdgV/ZxjFHv",
      "include_colab_link": true
    },
    "kernelspec": {
      "name": "python3",
      "display_name": "Python 3"
    },
    "language_info": {
      "name": "python"
    },
    "accelerator": "GPU"
  },
  "cells": [
    {
      "cell_type": "markdown",
      "metadata": {
        "id": "view-in-github",
        "colab_type": "text"
      },
      "source": [
        "<a href=\"https://colab.research.google.com/github/R4hulR/BreastCancerNN/blob/main/BreastCancerNN.ipynb\" target=\"_parent\"><img src=\"https://colab.research.google.com/assets/colab-badge.svg\" alt=\"Open In Colab\"/></a>"
      ]
    },
    {
      "cell_type": "code",
      "execution_count": null,
      "metadata": {
        "id": "sOR1PudAIPsP"
      },
      "outputs": [],
      "source": [
        "import torch\n",
        "import torch.nn as nn\n",
        "import torch.optim as optim\n",
        "import torch.nn.functional as F\n",
        "from sklearn.datasets import load_breast_cancer\n",
        "from sklearn.model_selection import train_test_split\n",
        "from sklearn.preprocessing import StandardScaler"
      ]
    },
    {
      "cell_type": "code",
      "source": [
        "device = torch.device(\"cuda\" if torch.cuda.is_available() else \"cpu\")\n",
        "print(device)"
      ],
      "metadata": {
        "colab": {
          "base_uri": "https://localhost:8080/"
        },
        "id": "KKotJG93kxKn",
        "outputId": "9f0ce819-95f6-49ac-be2c-39d55b508709"
      },
      "execution_count": null,
      "outputs": [
        {
          "output_type": "stream",
          "name": "stdout",
          "text": [
            "cuda\n"
          ]
        }
      ]
    },
    {
      "cell_type": "markdown",
      "source": [
        "**Data Collection and Preprocessing**"
      ],
      "metadata": {
        "id": "Y8GSTiXQlkHy"
      }
    },
    {
      "cell_type": "code",
      "source": [
        "data = load_breast_cancer()\n",
        "X = data.data\n",
        "y = data.target"
      ],
      "metadata": {
        "id": "pTZuXUrPlCCI"
      },
      "execution_count": null,
      "outputs": []
    },
    {
      "cell_type": "code",
      "source": [
        "X_train, X_test, y_train, y_test = train_test_split(X, y, test_size=0.2, random_state=42)"
      ],
      "metadata": {
        "id": "kwyntzDTl9hH"
      },
      "execution_count": null,
      "outputs": []
    },
    {
      "cell_type": "code",
      "source": [
        "print(X_train.shape)\n",
        "print(X_test.shape)"
      ],
      "metadata": {
        "colab": {
          "base_uri": "https://localhost:8080/"
        },
        "id": "rBdsc9ACmzaX",
        "outputId": "5c66f14c-c250-4827-fb52-93ff9818a89a"
      },
      "execution_count": null,
      "outputs": [
        {
          "output_type": "stream",
          "name": "stdout",
          "text": [
            "(455, 30)\n",
            "(114, 30)\n"
          ]
        }
      ]
    },
    {
      "cell_type": "code",
      "source": [
        "#standardize the data\n",
        "scalar = StandardScaler()\n",
        "X_train= scalar.fit_transform(X_train)\n",
        "X_test = scalar.transform(X_test)"
      ],
      "metadata": {
        "id": "q9n12BTum2Nj"
      },
      "execution_count": null,
      "outputs": []
    },
    {
      "cell_type": "code",
      "source": [
        "X_train = torch.from_numpy(X_train).float().to(device)\n",
        "X_test = torch.from_numpy(X_test).float().to(device)\n",
        "y_train = torch.from_numpy(y_train).float().to(device)\n",
        "y_test = torch.from_numpy(y_test).float().to(device)"
      ],
      "metadata": {
        "id": "dI-jRnwmoLRJ"
      },
      "execution_count": null,
      "outputs": []
    },
    {
      "cell_type": "markdown",
      "source": [
        "**Neural Network Architecture**"
      ],
      "metadata": {
        "id": "WxeBe3N7rhK5"
      }
    },
    {
      "source": [
        "class NeuralNet(nn.Module):\n",
        "  def __init__(self,input_dim,hidden_dim,output_dim):\n",
        "    super(NeuralNet,self).__init__()\n",
        "    # Input Layer: Connects to the first hidden layer (self.fc1)\n",
        "    self.fc1 = nn.Linear(input_dim,hidden_dim)\n",
        "    # Hidden Layer: The output of self.fc1 is passed through the ReLU activation function (self.fc2) and then to the second linear layer (self.fc3).\n",
        "    self.fc2 = nn.ReLU()\n",
        "    self.fc3 = nn.Linear(hidden_dim,output_dim)\n",
        "    # Output Layer: The output of self.fc3 is passed through the sigmoid function (self.sigmoid) to produce the final output.\n",
        "    self.sigmoid = nn.Sigmoid()\n",
        "  def forward(self,x):\n",
        "    out = self.fc1(x)\n",
        "    out = self.fc2(out)\n",
        "    out = self.fc3(out)\n",
        "    out = self.sigmoid(out)\n",
        "    return out"
      ],
      "cell_type": "code",
      "metadata": {
        "id": "_Y2a29h1HfMx"
      },
      "execution_count": null,
      "outputs": []
    },
    {
      "cell_type": "code",
      "source": [
        "input_size = X_train.shape[1]\n",
        "hidden_size = 64\n",
        "output_size = 1\n",
        "learning_rate = 0.001\n",
        "epochs = 100"
      ],
      "metadata": {
        "id": "eSwd_SnTMHbw"
      },
      "execution_count": null,
      "outputs": []
    },
    {
      "cell_type": "code",
      "source": [
        "model = NeuralNet(input_size,hidden_size,output_size).to(device)"
      ],
      "metadata": {
        "id": "44yfdcyUMmCy"
      },
      "execution_count": null,
      "outputs": []
    },
    {
      "cell_type": "code",
      "source": [
        "criterion = nn.BCELoss()\n",
        "optimizer = optim.Adam(model.parameters(),lr = learning_rate)"
      ],
      "metadata": {
        "id": "qqiinP52M6WM"
      },
      "execution_count": null,
      "outputs": []
    },
    {
      "cell_type": "markdown",
      "source": [
        "**Training the neural network**"
      ],
      "metadata": {
        "id": "c7xdBVFMPDU_"
      }
    },
    {
      "cell_type": "code",
      "source": [
        "for epoch in range(epochs):\n",
        "    model.train()\n",
        "    optimizer.zero_grad()\n",
        "    y_pred = model(X_train)\n",
        "    loss = criterion(y_pred, y_train.view(-1, 1))\n",
        "    loss.backward()\n",
        "    optimizer.step()\n",
        "\n",
        "    with torch.no_grad():\n",
        "        predicted = y_pred.round()\n",
        "        accuracy = (predicted == y_train.view(-1, 1)).float().sum().item() / y_train.size(0)\n",
        "\n",
        "    if epoch % 10 == 0:\n",
        "        print(f\"Epoch {epoch+1}/{epochs}, Loss: {loss.item():.4f}, Accuracy: {accuracy * 100:.4f}%\")\n"
      ],
      "metadata": {
        "colab": {
          "base_uri": "https://localhost:8080/"
        },
        "id": "dCAc16ZmPC10",
        "outputId": "f5b57b1a-253b-4ab5-ad58-776285f4c10a"
      },
      "execution_count": null,
      "outputs": [
        {
          "output_type": "stream",
          "name": "stdout",
          "text": [
            "Epoch 1/100, Loss: 0.1186, Accuracy: 97.8022%\n",
            "Epoch 11/100, Loss: 0.1095, Accuracy: 97.8022%\n",
            "Epoch 21/100, Loss: 0.1020, Accuracy: 97.8022%\n",
            "Epoch 31/100, Loss: 0.0956, Accuracy: 97.8022%\n",
            "Epoch 41/100, Loss: 0.0902, Accuracy: 98.0220%\n",
            "Epoch 51/100, Loss: 0.0855, Accuracy: 98.2418%\n",
            "Epoch 61/100, Loss: 0.0813, Accuracy: 98.4615%\n",
            "Epoch 71/100, Loss: 0.0775, Accuracy: 98.4615%\n",
            "Epoch 81/100, Loss: 0.0741, Accuracy: 98.2418%\n",
            "Epoch 91/100, Loss: 0.0711, Accuracy: 98.2418%\n"
          ]
        }
      ]
    },
    {
      "cell_type": "markdown",
      "source": [
        "**Model Evaluation**"
      ],
      "metadata": {
        "id": "n9RQXXflXC8-"
      }
    },
    {
      "cell_type": "code",
      "source": [
        "model.eval()\n",
        "with torch.no_grad():\n",
        "    y_pred = model(X_test)\n",
        "    predicted = y_pred.round()\n",
        "    accuracy = (predicted == y_test.view(-1, 1)).float().sum().item() / y_test.size(0)\n",
        "    print(f\"Test Accuracy: {accuracy * 100:.4f}%\")"
      ],
      "metadata": {
        "colab": {
          "base_uri": "https://localhost:8080/"
        },
        "id": "k1jCFBH5TGxM",
        "outputId": "d509970f-28e4-431b-f50e-625369b33aa0"
      },
      "execution_count": null,
      "outputs": [
        {
          "output_type": "stream",
          "name": "stdout",
          "text": [
            "Test Accuracy: 96.4912%\n"
          ]
        }
      ]
    }
  ]
}